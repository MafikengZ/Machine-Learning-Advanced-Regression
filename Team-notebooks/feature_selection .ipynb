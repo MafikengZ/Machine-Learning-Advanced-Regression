{
 "cells": [
  {
   "cell_type": "code",
   "execution_count": 1,
   "metadata": {
    "id": "Bowg-w0P315w"
   },
   "outputs": [],
   "source": [
    "%matplotlib inline\n",
    "import numpy as np\n",
    "import pandas as pd\n",
    "\n",
    "import seaborn as sns\n",
    "import matplotlib.pyplot as plt\n",
    "\n",
    "import warnings\n",
    "warnings.filterwarnings('ignore')"
   ]
  },
  {
   "cell_type": "code",
   "execution_count": 2,
   "metadata": {
    "id": "2KeC2N0q3158"
   },
   "outputs": [
    {
     "ename": "FileNotFoundError",
     "evalue": "[Errno 2] No such file or directory: 'input/df_train.csv'",
     "output_type": "error",
     "traceback": [
      "\u001b[0;31m---------------------------------------------------------------------------\u001b[0m",
      "\u001b[0;31mFileNotFoundError\u001b[0m                         Traceback (most recent call last)",
      "\u001b[0;32m<ipython-input-2-7a1ac2f7d230>\u001b[0m in \u001b[0;36m<module>\u001b[0;34m\u001b[0m\n\u001b[1;32m      1\u001b[0m \u001b[0;31m#Load dataset\u001b[0m\u001b[0;34m\u001b[0m\u001b[0;34m\u001b[0m\u001b[0;34m\u001b[0m\u001b[0m\n\u001b[0;32m----> 2\u001b[0;31m \u001b[0mdf_train\u001b[0m \u001b[0;34m=\u001b[0m \u001b[0mpd\u001b[0m\u001b[0;34m.\u001b[0m\u001b[0mread_csv\u001b[0m\u001b[0;34m(\u001b[0m\u001b[0;34m\"input/df_train.csv\"\u001b[0m\u001b[0;34m,\u001b[0m \u001b[0mindex_col\u001b[0m\u001b[0;34m=\u001b[0m\u001b[0;36m0\u001b[0m\u001b[0;34m)\u001b[0m\u001b[0;34m\u001b[0m\u001b[0;34m\u001b[0m\u001b[0m\n\u001b[0m\u001b[1;32m      3\u001b[0m \u001b[0mdf_test\u001b[0m \u001b[0;34m=\u001b[0m \u001b[0mpd\u001b[0m\u001b[0;34m.\u001b[0m\u001b[0mread_csv\u001b[0m\u001b[0;34m(\u001b[0m\u001b[0;34m\"input/df_test.csv\"\u001b[0m\u001b[0;34m,\u001b[0m \u001b[0mindex_col\u001b[0m\u001b[0;34m=\u001b[0m\u001b[0;36m0\u001b[0m\u001b[0;34m)\u001b[0m\u001b[0;34m\u001b[0m\u001b[0;34m\u001b[0m\u001b[0m\n\u001b[1;32m      4\u001b[0m \u001b[0;34m\u001b[0m\u001b[0m\n\u001b[1;32m      5\u001b[0m \u001b[0;31m#Insurance dataset\u001b[0m\u001b[0;34m\u001b[0m\u001b[0;34m\u001b[0m\u001b[0;34m\u001b[0m\u001b[0m\n",
      "\u001b[0;32m~/anaconda3/lib/python3.8/site-packages/pandas/io/parsers.py\u001b[0m in \u001b[0;36mread_csv\u001b[0;34m(filepath_or_buffer, sep, delimiter, header, names, index_col, usecols, squeeze, prefix, mangle_dupe_cols, dtype, engine, converters, true_values, false_values, skipinitialspace, skiprows, skipfooter, nrows, na_values, keep_default_na, na_filter, verbose, skip_blank_lines, parse_dates, infer_datetime_format, keep_date_col, date_parser, dayfirst, cache_dates, iterator, chunksize, compression, thousands, decimal, lineterminator, quotechar, quoting, doublequote, escapechar, comment, encoding, dialect, error_bad_lines, warn_bad_lines, delim_whitespace, low_memory, memory_map, float_precision)\u001b[0m\n\u001b[1;32m    684\u001b[0m     )\n\u001b[1;32m    685\u001b[0m \u001b[0;34m\u001b[0m\u001b[0m\n\u001b[0;32m--> 686\u001b[0;31m     \u001b[0;32mreturn\u001b[0m \u001b[0m_read\u001b[0m\u001b[0;34m(\u001b[0m\u001b[0mfilepath_or_buffer\u001b[0m\u001b[0;34m,\u001b[0m \u001b[0mkwds\u001b[0m\u001b[0;34m)\u001b[0m\u001b[0;34m\u001b[0m\u001b[0;34m\u001b[0m\u001b[0m\n\u001b[0m\u001b[1;32m    687\u001b[0m \u001b[0;34m\u001b[0m\u001b[0m\n\u001b[1;32m    688\u001b[0m \u001b[0;34m\u001b[0m\u001b[0m\n",
      "\u001b[0;32m~/anaconda3/lib/python3.8/site-packages/pandas/io/parsers.py\u001b[0m in \u001b[0;36m_read\u001b[0;34m(filepath_or_buffer, kwds)\u001b[0m\n\u001b[1;32m    450\u001b[0m \u001b[0;34m\u001b[0m\u001b[0m\n\u001b[1;32m    451\u001b[0m     \u001b[0;31m# Create the parser.\u001b[0m\u001b[0;34m\u001b[0m\u001b[0;34m\u001b[0m\u001b[0;34m\u001b[0m\u001b[0m\n\u001b[0;32m--> 452\u001b[0;31m     \u001b[0mparser\u001b[0m \u001b[0;34m=\u001b[0m \u001b[0mTextFileReader\u001b[0m\u001b[0;34m(\u001b[0m\u001b[0mfp_or_buf\u001b[0m\u001b[0;34m,\u001b[0m \u001b[0;34m**\u001b[0m\u001b[0mkwds\u001b[0m\u001b[0;34m)\u001b[0m\u001b[0;34m\u001b[0m\u001b[0;34m\u001b[0m\u001b[0m\n\u001b[0m\u001b[1;32m    453\u001b[0m \u001b[0;34m\u001b[0m\u001b[0m\n\u001b[1;32m    454\u001b[0m     \u001b[0;32mif\u001b[0m \u001b[0mchunksize\u001b[0m \u001b[0;32mor\u001b[0m \u001b[0miterator\u001b[0m\u001b[0;34m:\u001b[0m\u001b[0;34m\u001b[0m\u001b[0;34m\u001b[0m\u001b[0m\n",
      "\u001b[0;32m~/anaconda3/lib/python3.8/site-packages/pandas/io/parsers.py\u001b[0m in \u001b[0;36m__init__\u001b[0;34m(self, f, engine, **kwds)\u001b[0m\n\u001b[1;32m    944\u001b[0m             \u001b[0mself\u001b[0m\u001b[0;34m.\u001b[0m\u001b[0moptions\u001b[0m\u001b[0;34m[\u001b[0m\u001b[0;34m\"has_index_names\"\u001b[0m\u001b[0;34m]\u001b[0m \u001b[0;34m=\u001b[0m \u001b[0mkwds\u001b[0m\u001b[0;34m[\u001b[0m\u001b[0;34m\"has_index_names\"\u001b[0m\u001b[0;34m]\u001b[0m\u001b[0;34m\u001b[0m\u001b[0;34m\u001b[0m\u001b[0m\n\u001b[1;32m    945\u001b[0m \u001b[0;34m\u001b[0m\u001b[0m\n\u001b[0;32m--> 946\u001b[0;31m         \u001b[0mself\u001b[0m\u001b[0;34m.\u001b[0m\u001b[0m_make_engine\u001b[0m\u001b[0;34m(\u001b[0m\u001b[0mself\u001b[0m\u001b[0;34m.\u001b[0m\u001b[0mengine\u001b[0m\u001b[0;34m)\u001b[0m\u001b[0;34m\u001b[0m\u001b[0;34m\u001b[0m\u001b[0m\n\u001b[0m\u001b[1;32m    947\u001b[0m \u001b[0;34m\u001b[0m\u001b[0m\n\u001b[1;32m    948\u001b[0m     \u001b[0;32mdef\u001b[0m \u001b[0mclose\u001b[0m\u001b[0;34m(\u001b[0m\u001b[0mself\u001b[0m\u001b[0;34m)\u001b[0m\u001b[0;34m:\u001b[0m\u001b[0;34m\u001b[0m\u001b[0;34m\u001b[0m\u001b[0m\n",
      "\u001b[0;32m~/anaconda3/lib/python3.8/site-packages/pandas/io/parsers.py\u001b[0m in \u001b[0;36m_make_engine\u001b[0;34m(self, engine)\u001b[0m\n\u001b[1;32m   1176\u001b[0m     \u001b[0;32mdef\u001b[0m \u001b[0m_make_engine\u001b[0m\u001b[0;34m(\u001b[0m\u001b[0mself\u001b[0m\u001b[0;34m,\u001b[0m \u001b[0mengine\u001b[0m\u001b[0;34m=\u001b[0m\u001b[0;34m\"c\"\u001b[0m\u001b[0;34m)\u001b[0m\u001b[0;34m:\u001b[0m\u001b[0;34m\u001b[0m\u001b[0;34m\u001b[0m\u001b[0m\n\u001b[1;32m   1177\u001b[0m         \u001b[0;32mif\u001b[0m \u001b[0mengine\u001b[0m \u001b[0;34m==\u001b[0m \u001b[0;34m\"c\"\u001b[0m\u001b[0;34m:\u001b[0m\u001b[0;34m\u001b[0m\u001b[0;34m\u001b[0m\u001b[0m\n\u001b[0;32m-> 1178\u001b[0;31m             \u001b[0mself\u001b[0m\u001b[0;34m.\u001b[0m\u001b[0m_engine\u001b[0m \u001b[0;34m=\u001b[0m \u001b[0mCParserWrapper\u001b[0m\u001b[0;34m(\u001b[0m\u001b[0mself\u001b[0m\u001b[0;34m.\u001b[0m\u001b[0mf\u001b[0m\u001b[0;34m,\u001b[0m \u001b[0;34m**\u001b[0m\u001b[0mself\u001b[0m\u001b[0;34m.\u001b[0m\u001b[0moptions\u001b[0m\u001b[0;34m)\u001b[0m\u001b[0;34m\u001b[0m\u001b[0;34m\u001b[0m\u001b[0m\n\u001b[0m\u001b[1;32m   1179\u001b[0m         \u001b[0;32melse\u001b[0m\u001b[0;34m:\u001b[0m\u001b[0;34m\u001b[0m\u001b[0;34m\u001b[0m\u001b[0m\n\u001b[1;32m   1180\u001b[0m             \u001b[0;32mif\u001b[0m \u001b[0mengine\u001b[0m \u001b[0;34m==\u001b[0m \u001b[0;34m\"python\"\u001b[0m\u001b[0;34m:\u001b[0m\u001b[0;34m\u001b[0m\u001b[0;34m\u001b[0m\u001b[0m\n",
      "\u001b[0;32m~/anaconda3/lib/python3.8/site-packages/pandas/io/parsers.py\u001b[0m in \u001b[0;36m__init__\u001b[0;34m(self, src, **kwds)\u001b[0m\n\u001b[1;32m   2006\u001b[0m         \u001b[0mkwds\u001b[0m\u001b[0;34m[\u001b[0m\u001b[0;34m\"usecols\"\u001b[0m\u001b[0;34m]\u001b[0m \u001b[0;34m=\u001b[0m \u001b[0mself\u001b[0m\u001b[0;34m.\u001b[0m\u001b[0musecols\u001b[0m\u001b[0;34m\u001b[0m\u001b[0;34m\u001b[0m\u001b[0m\n\u001b[1;32m   2007\u001b[0m \u001b[0;34m\u001b[0m\u001b[0m\n\u001b[0;32m-> 2008\u001b[0;31m         \u001b[0mself\u001b[0m\u001b[0;34m.\u001b[0m\u001b[0m_reader\u001b[0m \u001b[0;34m=\u001b[0m \u001b[0mparsers\u001b[0m\u001b[0;34m.\u001b[0m\u001b[0mTextReader\u001b[0m\u001b[0;34m(\u001b[0m\u001b[0msrc\u001b[0m\u001b[0;34m,\u001b[0m \u001b[0;34m**\u001b[0m\u001b[0mkwds\u001b[0m\u001b[0;34m)\u001b[0m\u001b[0;34m\u001b[0m\u001b[0;34m\u001b[0m\u001b[0m\n\u001b[0m\u001b[1;32m   2009\u001b[0m         \u001b[0mself\u001b[0m\u001b[0;34m.\u001b[0m\u001b[0munnamed_cols\u001b[0m \u001b[0;34m=\u001b[0m \u001b[0mself\u001b[0m\u001b[0;34m.\u001b[0m\u001b[0m_reader\u001b[0m\u001b[0;34m.\u001b[0m\u001b[0munnamed_cols\u001b[0m\u001b[0;34m\u001b[0m\u001b[0;34m\u001b[0m\u001b[0m\n\u001b[1;32m   2010\u001b[0m \u001b[0;34m\u001b[0m\u001b[0m\n",
      "\u001b[0;32mpandas/_libs/parsers.pyx\u001b[0m in \u001b[0;36mpandas._libs.parsers.TextReader.__cinit__\u001b[0;34m()\u001b[0m\n",
      "\u001b[0;32mpandas/_libs/parsers.pyx\u001b[0m in \u001b[0;36mpandas._libs.parsers.TextReader._setup_parser_source\u001b[0;34m()\u001b[0m\n",
      "\u001b[0;31mFileNotFoundError\u001b[0m: [Errno 2] No such file or directory: 'input/df_train.csv'"
     ]
    }
   ],
   "source": [
    "#Load dataset\n",
    "df_train = pd.read_csv(\"input/df_train.csv\", index_col=0)\n",
    "df_test = pd.read_csv(\"input/df_test.csv\", index_col=0)\n",
    "\n",
    "#Insurance dataset\n",
    "copy_train = df_train.copy()\n",
    "copy_test = df_test.copy()"
   ]
  },
  {
   "cell_type": "code",
   "execution_count": null,
   "metadata": {
    "id": "TaiWw7o8315-"
   },
   "outputs": [],
   "source": [
    "sns.set(style=\"darkgrid\") # set seaborn style"
   ]
  },
  {
   "cell_type": "code",
   "execution_count": 7,
   "metadata": {
    "colab": {
     "base_uri": "https://localhost:8080/"
    },
    "id": "6CNp8Oip316A",
    "outputId": "4df7f6e1-99be-4e3d-d65c-cb3f084339d6"
   },
   "outputs": [
    {
     "data": {
      "text/plain": [
       "time                       0\n",
       "Madrid_wind_speed          0\n",
       "Valencia_wind_deg          0\n",
       "Bilbao_rain_1h             0\n",
       "Valencia_wind_speed        0\n",
       "Seville_humidity           0\n",
       "Madrid_humidity            0\n",
       "Bilbao_clouds_all          0\n",
       "Bilbao_wind_speed          0\n",
       "Seville_clouds_all         0\n",
       "Bilbao_wind_deg            0\n",
       "Barcelona_wind_speed       0\n",
       "Barcelona_wind_deg         0\n",
       "Madrid_clouds_all          0\n",
       "Seville_wind_speed         0\n",
       "Barcelona_rain_1h          0\n",
       "Seville_pressure           0\n",
       "Seville_rain_1h            0\n",
       "Bilbao_snow_3h             0\n",
       "Barcelona_pressure         0\n",
       "Seville_rain_3h            0\n",
       "Madrid_rain_1h             0\n",
       "Barcelona_rain_3h          0\n",
       "Valencia_snow_3h           0\n",
       "Madrid_weather_id          0\n",
       "Barcelona_weather_id       0\n",
       "Bilbao_pressure            0\n",
       "Seville_weather_id         0\n",
       "Valencia_pressure       2068\n",
       "Seville_temp_max           0\n",
       "Madrid_pressure            0\n",
       "Valencia_temp_max          0\n",
       "Valencia_temp              0\n",
       "Bilbao_weather_id          0\n",
       "Seville_temp               0\n",
       "Valencia_humidity          0\n",
       "Valencia_temp_min          0\n",
       "Barcelona_temp_max         0\n",
       "Madrid_temp_max            0\n",
       "Barcelona_temp             0\n",
       "Bilbao_temp_min            0\n",
       "Bilbao_temp                0\n",
       "Barcelona_temp_min         0\n",
       "Bilbao_temp_max            0\n",
       "Seville_temp_min           0\n",
       "Madrid_temp                0\n",
       "Madrid_temp_min            0\n",
       "load_shortfall_3h          0\n",
       "dtype: int64"
      ]
     },
     "execution_count": 7,
     "metadata": {},
     "output_type": "execute_result"
    }
   ],
   "source": [
    "df_train.isna().sum()"
   ]
  },
  {
   "cell_type": "code",
   "execution_count": 8,
   "metadata": {
    "colab": {
     "base_uri": "https://localhost:8080/"
    },
    "id": "rdFdSVfK316C",
    "outputId": "c42d3231-881f-4e84-e65f-a2b28f43a950"
   },
   "outputs": [
    {
     "name": "stdout",
     "output_type": "stream",
     "text": [
      "Train data shape: (8763, 48)  |  Test data shape: (2920, 47)\n"
     ]
    }
   ],
   "source": [
    "print(f'Train data shape: {df_train.shape}  |  Test data shape: {df_test.shape}')"
   ]
  },
  {
   "cell_type": "code",
   "execution_count": 9,
   "metadata": {
    "colab": {
     "base_uri": "https://localhost:8080/"
    },
    "id": "aQ3TlKKp316E",
    "outputId": "d6b15148-55c3-4005-d3c0-0c26d24bc348"
   },
   "outputs": [
    {
     "name": "stdout",
     "output_type": "stream",
     "text": [
      "Train data Missing Values: 2068  |   Percentage: 23.6%\n"
     ]
    }
   ],
   "source": [
    "missing_values_train = df_train.Valencia_pressure.isna().sum()\n",
    "print(f'Train data Missing Values: {missing_values_train}  |   Percentage: {round(( missing_values_train/ df_train.Valencia_pressure.shape[0]) *100, 2)}%')"
   ]
  },
  {
   "cell_type": "code",
   "execution_count": null,
   "metadata": {
    "id": "NlIL1RMyCULF"
   },
   "outputs": [],
   "source": []
  },
  {
   "cell_type": "code",
   "execution_count": 10,
   "metadata": {
    "colab": {
     "base_uri": "https://localhost:8080/"
    },
    "id": "JV9-g-OJ316G",
    "outputId": "d59c38d8-ef0b-472c-8492-3b1bc222a5c4"
   },
   "outputs": [
    {
     "name": "stdout",
     "output_type": "stream",
     "text": [
      "Train data Missing Values: 454  |   Percentage: 5.18%\n"
     ]
    }
   ],
   "source": [
    "missing_values_test = df_test.Valencia_pressure.isna().sum()\n",
    "print(f'Train data Missing Values: {missing_values_test}  |   Percentage: {round(( missing_values_test / df_train.Valencia_pressure.shape[0]) *100, 2)}%')"
   ]
  },
  {
   "cell_type": "code",
   "execution_count": 11,
   "metadata": {
    "id": "thJwBgQR316K"
   },
   "outputs": [],
   "source": [
    "mode = pd.concat([df_train.Valencia_pressure , df_test.Valencia_pressure]).mode()"
   ]
  },
  {
   "cell_type": "code",
   "execution_count": 12,
   "metadata": {
    "id": "OkdOpPRS316N"
   },
   "outputs": [],
   "source": [
    "#Impute missing values in Valencia_pressure with mean\n",
    "df_train.Valencia_pressure.fillna(mode[0] , inplace=True)\n",
    "df_test.Valencia_pressure.fillna(mode[0], inplace=True)"
   ]
  },
  {
   "cell_type": "code",
   "execution_count": 13,
   "metadata": {
    "colab": {
     "base_uri": "https://localhost:8080/"
    },
    "id": "KTUemrOx316Q",
    "outputId": "567d9d0a-154b-4dc0-e90d-a2d96823da40"
   },
   "outputs": [
    {
     "name": "stdout",
     "output_type": "stream",
     "text": [
      "Train data Missing Values: 0  |   Percentage: 0.0%\n"
     ]
    }
   ],
   "source": [
    "missing_values_train = df_train.Valencia_pressure.isna().sum()\n",
    "print(f'Train data Missing Values: {missing_values_train}  |   Percentage: {round(( missing_values_train/ df_train.Valencia_pressure.shape[0]) *100, 2)}%')"
   ]
  },
  {
   "cell_type": "code",
   "execution_count": null,
   "metadata": {
    "id": "b7Ky0Y0q316S"
   },
   "outputs": [],
   "source": []
  },
  {
   "cell_type": "code",
   "execution_count": 14,
   "metadata": {
    "colab": {
     "base_uri": "https://localhost:8080/"
    },
    "id": "iOz-SUbc316T",
    "outputId": "b6bf3f88-4567-4a39-f4f9-4abc3dddcc55"
   },
   "outputs": [
    {
     "name": "stdout",
     "output_type": "stream",
     "text": [
      "Sum of unique object: 10\n"
     ]
    },
    {
     "data": {
      "text/plain": [
       "array(['level_5', 'level_10', 'level_9', 'level_8', 'level_7', 'level_6',\n",
       "       'level_4', 'level_3', 'level_1', 'level_2'], dtype=object)"
      ]
     },
     "execution_count": 14,
     "metadata": {},
     "output_type": "execute_result"
    }
   ],
   "source": [
    "print(f'Sum of unique object: {df_train.Valencia_wind_deg.value_counts().count()}')\n",
    "df_train.Valencia_wind_deg.unique()"
   ]
  },
  {
   "cell_type": "code",
   "execution_count": 15,
   "metadata": {
    "colab": {
     "base_uri": "https://localhost:8080/"
    },
    "id": "Zkfhmsm3316U",
    "outputId": "dfc70b39-ab47-44fd-9ddc-b479ce4dc486"
   },
   "outputs": [
    {
     "name": "stdout",
     "output_type": "stream",
     "text": [
      "Sum of unique object: 25\n"
     ]
    },
    {
     "data": {
      "text/plain": [
       "array(['sp25', 'sp23', 'sp24', 'sp21', 'sp16', 'sp9', 'sp15', 'sp19',\n",
       "       'sp22', 'sp11', 'sp8', 'sp4', 'sp6', 'sp13', 'sp17', 'sp20',\n",
       "       'sp18', 'sp14', 'sp12', 'sp5', 'sp10', 'sp7', 'sp3', 'sp2', 'sp1'],\n",
       "      dtype=object)"
      ]
     },
     "execution_count": 15,
     "metadata": {},
     "output_type": "execute_result"
    }
   ],
   "source": [
    "print(f'Sum of unique object: {df_train.Seville_pressure.value_counts().count()}')\n",
    "df_train.Seville_pressure.unique()"
   ]
  },
  {
   "cell_type": "code",
   "execution_count": null,
   "metadata": {
    "id": "mAZ8VAqf316V"
   },
   "outputs": [],
   "source": []
  },
  {
   "cell_type": "code",
   "execution_count": 16,
   "metadata": {
    "id": "nXA8dD09316W"
   },
   "outputs": [],
   "source": [
    "from sklearn.impute import SimpleImputer\n",
    "from sklearn.preprocessing import OrdinalEncoder, OneHotEncoder , StandardScaler , MinMaxScaler ,RobustScaler\n",
    "from sklearn.model_selection import train_test_split , cross_validate"
   ]
  },
  {
   "cell_type": "code",
   "execution_count": 17,
   "metadata": {
    "id": "0EGXuo9j316Y"
   },
   "outputs": [],
   "source": [
    "#Impute Categirical features using OrdinalEncoder()\n",
    "enc = OrdinalEncoder()"
   ]
  },
  {
   "cell_type": "code",
   "execution_count": 18,
   "metadata": {
    "id": "c95rxjFo316Y"
   },
   "outputs": [],
   "source": [
    "df_train.Valencia_wind_deg = enc.fit_transform(df_train[['Valencia_wind_deg']])\n",
    "df_train.Seville_pressure = enc.fit_transform(df_train[['Seville_pressure']])"
   ]
  },
  {
   "cell_type": "code",
   "execution_count": null,
   "metadata": {
    "id": "KTvPosylQL5m"
   },
   "outputs": [],
   "source": []
  },
  {
   "cell_type": "code",
   "execution_count": 19,
   "metadata": {
    "id": "swYunehJ316a"
   },
   "outputs": [],
   "source": [
    "df_test.Valencia_wind_deg = enc.fit_transform(df_test[['Valencia_wind_deg']])\n",
    "df_test.Seville_pressure = enc.fit_transform(df_test[['Seville_pressure']])"
   ]
  },
  {
   "cell_type": "code",
   "execution_count": 20,
   "metadata": {
    "colab": {
     "base_uri": "https://localhost:8080/"
    },
    "id": "KXC826Ck316b",
    "outputId": "a31d99c3-1919-4ab0-d702-d135fee15ae3"
   },
   "outputs": [
    {
     "data": {
      "text/plain": [
       "float64    44\n",
       "int64       2\n",
       "object      1\n",
       "dtype: int64"
      ]
     },
     "execution_count": 20,
     "metadata": {},
     "output_type": "execute_result"
    }
   ],
   "source": [
    "df_test.dtypes.value_counts()"
   ]
  },
  {
   "cell_type": "code",
   "execution_count": null,
   "metadata": {
    "id": "MTPWQrGN316c"
   },
   "outputs": [],
   "source": []
  },
  {
   "cell_type": "code",
   "execution_count": 21,
   "metadata": {
    "id": "FqOU3H3Y316c"
   },
   "outputs": [],
   "source": [
    "# Transform Features\n",
    "\n",
    "import datetime as dt\n",
    "\n",
    "df_train['time'] = pd.to_datetime(df_train['time'])\n",
    "df_test['time'] = pd.to_datetime(df_test['time'])\n",
    "df_test_copy = df_test.copy()\n",
    "\n",
    "\n",
    "# day\n",
    "df_train['Day'] = df_train['time'].dt.day\n",
    "df_test['Day'] = df_test['time'].dt.day\n",
    "\n",
    "# month\n",
    "df_train['Month'] = df_train['time'].dt.month\n",
    "df_test['Month'] = df_test['time'].dt.month\n",
    "\n",
    "# year\n",
    "df_train['Year'] = df_train['time'].dt.year\n",
    "df_test['Year'] = df_test['time'].dt.year\n",
    "\n",
    "# hour\n",
    "df_train['Start_hour'] = df_train['time'].dt.hour\n",
    "df_test['Start_hour'] = df_test['time'].dt.hour\n",
    "\n",
    "# Drop Feature\n",
    "df_train.drop(['time'] , axis=1 , inplace=True)\n",
    "df_test.drop(['time'] , axis=1 , inplace=True)"
   ]
  },
  {
   "cell_type": "code",
   "execution_count": 22,
   "metadata": {
    "id": "DQUQrBUk316e"
   },
   "outputs": [],
   "source": [
    "columns = df_train.drop(['load_shortfall_3h'] , axis=1).columns"
   ]
  },
  {
   "cell_type": "code",
   "execution_count": 23,
   "metadata": {
    "colab": {
     "base_uri": "https://localhost:8080/",
     "height": 224
    },
    "id": "u42xAR1q316f",
    "outputId": "ddf8e314-561f-48b7-a399-964657db5188"
   },
   "outputs": [
    {
     "data": {
      "text/html": [
       "<div>\n",
       "<style scoped>\n",
       "    .dataframe tbody tr th:only-of-type {\n",
       "        vertical-align: middle;\n",
       "    }\n",
       "\n",
       "    .dataframe tbody tr th {\n",
       "        vertical-align: top;\n",
       "    }\n",
       "\n",
       "    .dataframe thead th {\n",
       "        text-align: right;\n",
       "    }\n",
       "</style>\n",
       "<table border=\"1\" class=\"dataframe\">\n",
       "  <thead>\n",
       "    <tr style=\"text-align: right;\">\n",
       "      <th></th>\n",
       "      <th>Madrid_wind_speed</th>\n",
       "      <th>Valencia_wind_deg</th>\n",
       "      <th>Bilbao_rain_1h</th>\n",
       "      <th>Valencia_wind_speed</th>\n",
       "      <th>Seville_humidity</th>\n",
       "      <th>Madrid_humidity</th>\n",
       "      <th>Bilbao_clouds_all</th>\n",
       "      <th>Bilbao_wind_speed</th>\n",
       "      <th>Seville_clouds_all</th>\n",
       "      <th>Bilbao_wind_deg</th>\n",
       "      <th>...</th>\n",
       "      <th>Barcelona_temp_min</th>\n",
       "      <th>Bilbao_temp_max</th>\n",
       "      <th>Seville_temp_min</th>\n",
       "      <th>Madrid_temp</th>\n",
       "      <th>Madrid_temp_min</th>\n",
       "      <th>load_shortfall_3h</th>\n",
       "      <th>Day</th>\n",
       "      <th>Month</th>\n",
       "      <th>Year</th>\n",
       "      <th>Start_hour</th>\n",
       "    </tr>\n",
       "  </thead>\n",
       "  <tbody>\n",
       "    <tr>\n",
       "      <th>0</th>\n",
       "      <td>0.666667</td>\n",
       "      <td>5.0</td>\n",
       "      <td>0.0</td>\n",
       "      <td>0.666667</td>\n",
       "      <td>74.333333</td>\n",
       "      <td>64.000000</td>\n",
       "      <td>0.0</td>\n",
       "      <td>1.000000</td>\n",
       "      <td>0.0</td>\n",
       "      <td>223.333333</td>\n",
       "      <td>...</td>\n",
       "      <td>281.013000</td>\n",
       "      <td>269.338615</td>\n",
       "      <td>274.254667</td>\n",
       "      <td>265.938000</td>\n",
       "      <td>265.938000</td>\n",
       "      <td>6715.666667</td>\n",
       "      <td>1</td>\n",
       "      <td>1</td>\n",
       "      <td>2015</td>\n",
       "      <td>3</td>\n",
       "    </tr>\n",
       "    <tr>\n",
       "      <th>1</th>\n",
       "      <td>0.333333</td>\n",
       "      <td>1.0</td>\n",
       "      <td>0.0</td>\n",
       "      <td>1.666667</td>\n",
       "      <td>78.333333</td>\n",
       "      <td>64.666667</td>\n",
       "      <td>0.0</td>\n",
       "      <td>1.000000</td>\n",
       "      <td>0.0</td>\n",
       "      <td>221.000000</td>\n",
       "      <td>...</td>\n",
       "      <td>280.561667</td>\n",
       "      <td>270.376000</td>\n",
       "      <td>274.945000</td>\n",
       "      <td>266.386667</td>\n",
       "      <td>266.386667</td>\n",
       "      <td>4171.666667</td>\n",
       "      <td>1</td>\n",
       "      <td>1</td>\n",
       "      <td>2015</td>\n",
       "      <td>6</td>\n",
       "    </tr>\n",
       "    <tr>\n",
       "      <th>2</th>\n",
       "      <td>1.000000</td>\n",
       "      <td>9.0</td>\n",
       "      <td>0.0</td>\n",
       "      <td>1.000000</td>\n",
       "      <td>71.333333</td>\n",
       "      <td>64.333333</td>\n",
       "      <td>0.0</td>\n",
       "      <td>1.000000</td>\n",
       "      <td>0.0</td>\n",
       "      <td>214.333333</td>\n",
       "      <td>...</td>\n",
       "      <td>281.583667</td>\n",
       "      <td>275.027229</td>\n",
       "      <td>278.792000</td>\n",
       "      <td>272.708667</td>\n",
       "      <td>272.708667</td>\n",
       "      <td>4274.666667</td>\n",
       "      <td>1</td>\n",
       "      <td>1</td>\n",
       "      <td>2015</td>\n",
       "      <td>9</td>\n",
       "    </tr>\n",
       "    <tr>\n",
       "      <th>3</th>\n",
       "      <td>1.000000</td>\n",
       "      <td>8.0</td>\n",
       "      <td>0.0</td>\n",
       "      <td>1.000000</td>\n",
       "      <td>65.333333</td>\n",
       "      <td>56.333333</td>\n",
       "      <td>0.0</td>\n",
       "      <td>1.000000</td>\n",
       "      <td>0.0</td>\n",
       "      <td>199.666667</td>\n",
       "      <td>...</td>\n",
       "      <td>283.434104</td>\n",
       "      <td>281.135063</td>\n",
       "      <td>285.394000</td>\n",
       "      <td>281.895219</td>\n",
       "      <td>281.895219</td>\n",
       "      <td>5075.666667</td>\n",
       "      <td>1</td>\n",
       "      <td>1</td>\n",
       "      <td>2015</td>\n",
       "      <td>12</td>\n",
       "    </tr>\n",
       "    <tr>\n",
       "      <th>4</th>\n",
       "      <td>1.000000</td>\n",
       "      <td>7.0</td>\n",
       "      <td>0.0</td>\n",
       "      <td>1.000000</td>\n",
       "      <td>59.000000</td>\n",
       "      <td>57.000000</td>\n",
       "      <td>2.0</td>\n",
       "      <td>0.333333</td>\n",
       "      <td>0.0</td>\n",
       "      <td>185.000000</td>\n",
       "      <td>...</td>\n",
       "      <td>284.213167</td>\n",
       "      <td>282.252063</td>\n",
       "      <td>285.513719</td>\n",
       "      <td>280.678437</td>\n",
       "      <td>280.678437</td>\n",
       "      <td>6620.666667</td>\n",
       "      <td>1</td>\n",
       "      <td>1</td>\n",
       "      <td>2015</td>\n",
       "      <td>15</td>\n",
       "    </tr>\n",
       "  </tbody>\n",
       "</table>\n",
       "<p>5 rows × 51 columns</p>\n",
       "</div>"
      ],
      "text/plain": [
       "   Madrid_wind_speed  Valencia_wind_deg  Bilbao_rain_1h  Valencia_wind_speed  \\\n",
       "0           0.666667                5.0             0.0             0.666667   \n",
       "1           0.333333                1.0             0.0             1.666667   \n",
       "2           1.000000                9.0             0.0             1.000000   \n",
       "3           1.000000                8.0             0.0             1.000000   \n",
       "4           1.000000                7.0             0.0             1.000000   \n",
       "\n",
       "   Seville_humidity  Madrid_humidity  Bilbao_clouds_all  Bilbao_wind_speed  \\\n",
       "0         74.333333        64.000000                0.0           1.000000   \n",
       "1         78.333333        64.666667                0.0           1.000000   \n",
       "2         71.333333        64.333333                0.0           1.000000   \n",
       "3         65.333333        56.333333                0.0           1.000000   \n",
       "4         59.000000        57.000000                2.0           0.333333   \n",
       "\n",
       "   Seville_clouds_all  Bilbao_wind_deg  ...  Barcelona_temp_min  \\\n",
       "0                 0.0       223.333333  ...          281.013000   \n",
       "1                 0.0       221.000000  ...          280.561667   \n",
       "2                 0.0       214.333333  ...          281.583667   \n",
       "3                 0.0       199.666667  ...          283.434104   \n",
       "4                 0.0       185.000000  ...          284.213167   \n",
       "\n",
       "   Bilbao_temp_max  Seville_temp_min  Madrid_temp  Madrid_temp_min  \\\n",
       "0       269.338615        274.254667   265.938000       265.938000   \n",
       "1       270.376000        274.945000   266.386667       266.386667   \n",
       "2       275.027229        278.792000   272.708667       272.708667   \n",
       "3       281.135063        285.394000   281.895219       281.895219   \n",
       "4       282.252063        285.513719   280.678437       280.678437   \n",
       "\n",
       "   load_shortfall_3h  Day  Month  Year  Start_hour  \n",
       "0        6715.666667    1      1  2015           3  \n",
       "1        4171.666667    1      1  2015           6  \n",
       "2        4274.666667    1      1  2015           9  \n",
       "3        5075.666667    1      1  2015          12  \n",
       "4        6620.666667    1      1  2015          15  \n",
       "\n",
       "[5 rows x 51 columns]"
      ]
     },
     "execution_count": 23,
     "metadata": {},
     "output_type": "execute_result"
    }
   ],
   "source": [
    "df_train.head()"
   ]
  },
  {
   "cell_type": "code",
   "execution_count": 117,
   "metadata": {
    "id": "0pXX8B4-316g"
   },
   "outputs": [],
   "source": [
    "#Scale the dataset\n",
    "scaler = StandardScaler()\n",
    "scaled_features = scaler.fit_transform(df_train.drop(['load_shortfall_3h'] , axis=1).values)\n",
    "scaled_features_test = scaler.fit_transform(df_test.values)"
   ]
  },
  {
   "cell_type": "code",
   "execution_count": 118,
   "metadata": {
    "id": "zqjUiNdn316h"
   },
   "outputs": [],
   "source": [
    "df_train_scaled = pd.DataFrame(scaled_features, index=df_train.index, columns=columns)\n",
    "df_test_scaled = pd.DataFrame(scaled_features_test, index=df_test.index , columns=columns)"
   ]
  },
  {
   "cell_type": "code",
   "execution_count": 119,
   "metadata": {
    "id": "TcaTdyIy316i"
   },
   "outputs": [],
   "source": [
    "#Add load_short_fall_3h as last_columns on training data\n",
    "df_train_scaled['load_shortfall_3h'] = copy_train.load_shortfall_3h.values"
   ]
  },
  {
   "cell_type": "code",
   "execution_count": 120,
   "metadata": {
    "id": "BZevUSGp316k"
   },
   "outputs": [],
   "source": [
    "#Perform a test_train_split\n",
    "X = df_train_scaled.drop(['load_shortfall_3h'], axis=1)\n",
    "y = df_train_scaled.load_shortfall_3h"
   ]
  },
  {
   "cell_type": "code",
   "execution_count": 121,
   "metadata": {
    "colab": {
     "base_uri": "https://localhost:8080/"
    },
    "id": "T3ZQt8eq316l",
    "outputId": "b63f5468-d22d-436c-fb49-3c3c445d35f4"
   },
   "outputs": [
    {
     "data": {
      "text/html": [
       "<div>\n",
       "<style scoped>\n",
       "    .dataframe tbody tr th:only-of-type {\n",
       "        vertical-align: middle;\n",
       "    }\n",
       "\n",
       "    .dataframe tbody tr th {\n",
       "        vertical-align: top;\n",
       "    }\n",
       "\n",
       "    .dataframe thead th {\n",
       "        text-align: right;\n",
       "    }\n",
       "</style>\n",
       "<table border=\"1\" class=\"dataframe\">\n",
       "  <thead>\n",
       "    <tr style=\"text-align: right;\">\n",
       "      <th></th>\n",
       "      <th>Madrid_wind_speed</th>\n",
       "      <th>Valencia_wind_deg</th>\n",
       "      <th>Bilbao_rain_1h</th>\n",
       "      <th>Valencia_wind_speed</th>\n",
       "      <th>Seville_humidity</th>\n",
       "      <th>Madrid_humidity</th>\n",
       "      <th>Bilbao_clouds_all</th>\n",
       "      <th>Bilbao_wind_speed</th>\n",
       "      <th>Seville_clouds_all</th>\n",
       "      <th>Bilbao_wind_deg</th>\n",
       "      <th>...</th>\n",
       "      <th>Bilbao_temp</th>\n",
       "      <th>Barcelona_temp_min</th>\n",
       "      <th>Bilbao_temp_max</th>\n",
       "      <th>Seville_temp_min</th>\n",
       "      <th>Madrid_temp</th>\n",
       "      <th>Madrid_temp_min</th>\n",
       "      <th>Day</th>\n",
       "      <th>Month</th>\n",
       "      <th>Year</th>\n",
       "      <th>Start_hour</th>\n",
       "    </tr>\n",
       "  </thead>\n",
       "  <tbody>\n",
       "    <tr>\n",
       "      <th>0</th>\n",
       "      <td>-0.950708</td>\n",
       "      <td>0.248717</td>\n",
       "      <td>-0.362123</td>\n",
       "      <td>-0.796169</td>\n",
       "      <td>0.516117</td>\n",
       "      <td>0.270621</td>\n",
       "      <td>-1.335491</td>\n",
       "      <td>-0.501451</td>\n",
       "      <td>-0.565065</td>\n",
       "      <td>0.630823</td>\n",
       "      <td>...</td>\n",
       "      <td>-2.505658</td>\n",
       "      <td>-1.218309</td>\n",
       "      <td>-2.621665</td>\n",
       "      <td>-2.125118</td>\n",
       "      <td>-2.405393</td>\n",
       "      <td>-2.309892</td>\n",
       "      <td>-1.675368</td>\n",
       "      <td>-1.602429</td>\n",
       "      <td>-1.226179</td>\n",
       "      <td>-1.090901</td>\n",
       "    </tr>\n",
       "    <tr>\n",
       "      <th>1</th>\n",
       "      <td>-1.130863</td>\n",
       "      <td>-1.157189</td>\n",
       "      <td>-0.362123</td>\n",
       "      <td>-0.381412</td>\n",
       "      <td>0.692953</td>\n",
       "      <td>0.298017</td>\n",
       "      <td>-1.335491</td>\n",
       "      <td>-0.501451</td>\n",
       "      <td>-0.565065</td>\n",
       "      <td>0.607959</td>\n",
       "      <td>...</td>\n",
       "      <td>-2.353511</td>\n",
       "      <td>-1.292271</td>\n",
       "      <td>-2.475661</td>\n",
       "      <td>-2.040702</td>\n",
       "      <td>-2.357388</td>\n",
       "      <td>-2.261154</td>\n",
       "      <td>-1.675368</td>\n",
       "      <td>-1.602429</td>\n",
       "      <td>-1.226179</td>\n",
       "      <td>-0.654451</td>\n",
       "    </tr>\n",
       "    <tr>\n",
       "      <th>2</th>\n",
       "      <td>-0.770554</td>\n",
       "      <td>1.654623</td>\n",
       "      <td>-0.362123</td>\n",
       "      <td>-0.657917</td>\n",
       "      <td>0.383491</td>\n",
       "      <td>0.284319</td>\n",
       "      <td>-1.335491</td>\n",
       "      <td>-0.501451</td>\n",
       "      <td>-0.565065</td>\n",
       "      <td>0.542632</td>\n",
       "      <td>...</td>\n",
       "      <td>-1.671342</td>\n",
       "      <td>-1.124792</td>\n",
       "      <td>-1.821036</td>\n",
       "      <td>-1.570279</td>\n",
       "      <td>-1.680968</td>\n",
       "      <td>-1.574407</td>\n",
       "      <td>-1.675368</td>\n",
       "      <td>-1.602429</td>\n",
       "      <td>-1.226179</td>\n",
       "      <td>-0.218001</td>\n",
       "    </tr>\n",
       "    <tr>\n",
       "      <th>3</th>\n",
       "      <td>-0.770554</td>\n",
       "      <td>1.303146</td>\n",
       "      <td>-0.362123</td>\n",
       "      <td>-0.657917</td>\n",
       "      <td>0.118238</td>\n",
       "      <td>-0.044439</td>\n",
       "      <td>-1.335491</td>\n",
       "      <td>-0.501451</td>\n",
       "      <td>-0.565065</td>\n",
       "      <td>0.398912</td>\n",
       "      <td>...</td>\n",
       "      <td>-0.775541</td>\n",
       "      <td>-0.821553</td>\n",
       "      <td>-0.961406</td>\n",
       "      <td>-0.762967</td>\n",
       "      <td>-0.698057</td>\n",
       "      <td>-0.576488</td>\n",
       "      <td>-1.675368</td>\n",
       "      <td>-1.602429</td>\n",
       "      <td>-1.226179</td>\n",
       "      <td>0.218449</td>\n",
       "    </tr>\n",
       "    <tr>\n",
       "      <th>4</th>\n",
       "      <td>-0.770554</td>\n",
       "      <td>0.951670</td>\n",
       "      <td>-0.362123</td>\n",
       "      <td>-0.657917</td>\n",
       "      <td>-0.161751</td>\n",
       "      <td>-0.017043</td>\n",
       "      <td>-1.274045</td>\n",
       "      <td>-0.894581</td>\n",
       "      <td>-0.565065</td>\n",
       "      <td>0.255192</td>\n",
       "      <td>...</td>\n",
       "      <td>-0.611717</td>\n",
       "      <td>-0.693885</td>\n",
       "      <td>-0.804197</td>\n",
       "      <td>-0.748327</td>\n",
       "      <td>-0.828246</td>\n",
       "      <td>-0.708665</td>\n",
       "      <td>-1.675368</td>\n",
       "      <td>-1.602429</td>\n",
       "      <td>-1.226179</td>\n",
       "      <td>0.654899</td>\n",
       "    </tr>\n",
       "  </tbody>\n",
       "</table>\n",
       "<p>5 rows × 50 columns</p>\n",
       "</div>"
      ],
      "text/plain": [
       "   Madrid_wind_speed  Valencia_wind_deg  Bilbao_rain_1h  Valencia_wind_speed  \\\n",
       "0          -0.950708           0.248717       -0.362123            -0.796169   \n",
       "1          -1.130863          -1.157189       -0.362123            -0.381412   \n",
       "2          -0.770554           1.654623       -0.362123            -0.657917   \n",
       "3          -0.770554           1.303146       -0.362123            -0.657917   \n",
       "4          -0.770554           0.951670       -0.362123            -0.657917   \n",
       "\n",
       "   Seville_humidity  Madrid_humidity  Bilbao_clouds_all  Bilbao_wind_speed  \\\n",
       "0          0.516117         0.270621          -1.335491          -0.501451   \n",
       "1          0.692953         0.298017          -1.335491          -0.501451   \n",
       "2          0.383491         0.284319          -1.335491          -0.501451   \n",
       "3          0.118238        -0.044439          -1.335491          -0.501451   \n",
       "4         -0.161751        -0.017043          -1.274045          -0.894581   \n",
       "\n",
       "   Seville_clouds_all  Bilbao_wind_deg  ...  Bilbao_temp  Barcelona_temp_min  \\\n",
       "0           -0.565065         0.630823  ...    -2.505658           -1.218309   \n",
       "1           -0.565065         0.607959  ...    -2.353511           -1.292271   \n",
       "2           -0.565065         0.542632  ...    -1.671342           -1.124792   \n",
       "3           -0.565065         0.398912  ...    -0.775541           -0.821553   \n",
       "4           -0.565065         0.255192  ...    -0.611717           -0.693885   \n",
       "\n",
       "   Bilbao_temp_max  Seville_temp_min  Madrid_temp  Madrid_temp_min       Day  \\\n",
       "0        -2.621665         -2.125118    -2.405393        -2.309892 -1.675368   \n",
       "1        -2.475661         -2.040702    -2.357388        -2.261154 -1.675368   \n",
       "2        -1.821036         -1.570279    -1.680968        -1.574407 -1.675368   \n",
       "3        -0.961406         -0.762967    -0.698057        -0.576488 -1.675368   \n",
       "4        -0.804197         -0.748327    -0.828246        -0.708665 -1.675368   \n",
       "\n",
       "      Month      Year  Start_hour  \n",
       "0 -1.602429 -1.226179   -1.090901  \n",
       "1 -1.602429 -1.226179   -0.654451  \n",
       "2 -1.602429 -1.226179   -0.218001  \n",
       "3 -1.602429 -1.226179    0.218449  \n",
       "4 -1.602429 -1.226179    0.654899  \n",
       "\n",
       "[5 rows x 50 columns]"
      ]
     },
     "execution_count": 121,
     "metadata": {},
     "output_type": "execute_result"
    }
   ],
   "source": [
    "X.head()"
   ]
  },
  {
   "cell_type": "markdown",
   "metadata": {
    "id": "jg5fQTWO316m"
   },
   "source": [
    "## Feature Seletion"
   ]
  },
  {
   "cell_type": "code",
   "execution_count": 29,
   "metadata": {
    "id": "j1jeMSsj3161"
   },
   "outputs": [],
   "source": [
    "#Recursive Feature Selection (RFE) with Tree based and Gradient based Estimators\n",
    "\n",
    "#Buid the Model\n",
    "import pickle\n",
    "from sklearn.svm import SVR\n",
    "from sklearn.linear_model import LinearRegression, Ridge , Lasso\n",
    "from sklearn.ensemble import RandomForestRegressor \n",
    "from sklearn.tree import DecisionTreeRegressor\n",
    "\n",
    "from sklearn.feature_selection import SelectFromModel\n",
    "from sklearn.metrics import r2_score , mean_squared_error\n",
    "from sklearn import metrics\n",
    "\n",
    "#OLS summary\n",
    "import statsmodels.formula.api as sm"
   ]
  },
  {
   "cell_type": "code",
   "execution_count": 30,
   "metadata": {
    "id": "4_NIAg_K3162"
   },
   "outputs": [],
   "source": [
    "#Train Test Split\n",
    "X = df_train.drop(['load_shortfall_3h'],axis=1)\n",
    "y = df_train.load_shortfall_3h\n",
    "\n",
    "X_train, X_test, y_train, y_test = train_test_split(X, y, test_size=0.33, random_state=42)"
   ]
  },
  {
   "cell_type": "code",
   "execution_count": 31,
   "metadata": {
    "colab": {
     "base_uri": "https://localhost:8080/"
    },
    "id": "hUZssTHH3163",
    "outputId": "1ae8539c-7d27-4227-c349-d3c38e749688"
   },
   "outputs": [
    {
     "data": {
      "text/plain": [
       "(5871, 50)"
      ]
     },
     "execution_count": 31,
     "metadata": {},
     "output_type": "execute_result"
    }
   ],
   "source": [
    "X_train.shape"
   ]
  },
  {
   "cell_type": "markdown",
   "metadata": {
    "id": "Luzs2-Vm3164"
   },
   "source": [
    "### Feature Selection: Feature Importance of Random Forest Regressor"
   ]
  },
  {
   "cell_type": "code",
   "execution_count": null,
   "metadata": {
    "colab": {
     "base_uri": "https://localhost:8080/"
    },
    "id": "C1O9alkX3164",
    "outputId": "fc7d8153-6fb7-47ea-ab49-4d0b59c0fe75"
   },
   "outputs": [],
   "source": [
    "selct_important = SelectFromModel(RandomForestRegressor(n_estimators=100 , random_state=0 , n_jobs=1))\n",
    "selct_important.fit(X_train , y_train)\n",
    "selct_important.get_support()"
   ]
  },
  {
   "cell_type": "code",
   "execution_count": null,
   "metadata": {
    "colab": {
     "base_uri": "https://localhost:8080/"
    },
    "id": "CBR2-KA93165",
    "outputId": "55a9ad60-909f-4c07-a378-715e43b39b3d"
   },
   "outputs": [],
   "source": [
    "features = X_train.columns[(selct_important.get_support())]\n",
    "len(features)"
   ]
  },
  {
   "cell_type": "code",
   "execution_count": null,
   "metadata": {
    "colab": {
     "base_uri": "https://localhost:8080/"
    },
    "id": "jJQMapQQ3166",
    "outputId": "21672638-8d24-4f18-8e33-a4793c61fa35"
   },
   "outputs": [],
   "source": [
    "features"
   ]
  },
  {
   "cell_type": "code",
   "execution_count": null,
   "metadata": {
    "colab": {
     "base_uri": "https://localhost:8080/"
    },
    "id": "JQjD_net3166",
    "outputId": "9803cc8c-9e6f-4f1e-a45c-746bc508e0f1"
   },
   "outputs": [],
   "source": [
    "np.mean(selct_important.estimator_.feature_importances_)"
   ]
  },
  {
   "cell_type": "code",
   "execution_count": null,
   "metadata": {
    "colab": {
     "base_uri": "https://localhost:8080/",
     "height": 285
    },
    "id": "dN_UUkjG3167",
    "outputId": "06d852c7-584e-48b9-bd38-b07867a54d8f"
   },
   "outputs": [],
   "source": [
    "pd.Series(selct_important.estimator_.feature_importances_.ravel()).hist()"
   ]
  },
  {
   "cell_type": "code",
   "execution_count": null,
   "metadata": {
    "colab": {
     "base_uri": "https://localhost:8080/"
    },
    "id": "-7AyOO0v3168",
    "outputId": "5097180a-c27a-4115-9784-119b55077b14"
   },
   "outputs": [],
   "source": [
    "selct_important.estimator_.feature_importances_"
   ]
  },
  {
   "cell_type": "code",
   "execution_count": null,
   "metadata": {
    "id": "2EFmzEEP3169"
   },
   "outputs": [],
   "source": [
    "X_train_sel = selct_important.transform(X_train)\n",
    "X_test_sel = selct_important.transform(X_test)"
   ]
  },
  {
   "cell_type": "code",
   "execution_count": 35,
   "metadata": {},
   "outputs": [],
   "source": [
    "import xgboost as xgb"
   ]
  },
  {
   "cell_type": "code",
   "execution_count": null,
   "metadata": {},
   "outputs": [],
   "source": [
    "selct_best_xg = SelectFromModel(xgb.XGBRegressor(objective ='reg:squarederror', n_estimators = 100, random_state=0 , n_jobs=1))\n",
    "selct_best_xg.fit(X_train , y_train)\n",
    "selct_best_xg.get_support()"
   ]
  },
  {
   "cell_type": "code",
   "execution_count": null,
   "metadata": {},
   "outputs": [],
   "source": [
    "b = X_train.columns[(selct_best_xg.get_support())]\n",
    "len(b)"
   ]
  },
  {
   "cell_type": "code",
   "execution_count": null,
   "metadata": {},
   "outputs": [],
   "source": [
    "b"
   ]
  },
  {
   "cell_type": "code",
   "execution_count": null,
   "metadata": {},
   "outputs": [],
   "source": [
    "X_train_xg = selct_best_xg.transform(X_train)\n",
    "X_test_xg = selct_best_xg.transform(X_test)"
   ]
  },
  {
   "cell_type": "code",
   "execution_count": null,
   "metadata": {},
   "outputs": [],
   "source": []
  },
  {
   "cell_type": "code",
   "execution_count": null,
   "metadata": {},
   "outputs": [],
   "source": []
  },
  {
   "cell_type": "code",
   "execution_count": null,
   "metadata": {
    "id": "I8z2QRqR316-"
   },
   "outputs": [],
   "source": [
    "def _xgboost_train(X_train, X_test, y_train, y_test):\n",
    "    forest = xgb.XGBRegressor(objective ='reg:squarederror', n_estimators = 100, random_state=0 , n_jobs=1)\n",
    "    forest.fit(X_train , y_train)\n",
    "    pred = forest.predict(X_test)\n",
    "    print(f'Train RMSE: { np.sqrt(metrics.mean_squared_error(y_train[:2892], pred))}')\n",
    "    print(f'R Score Train: {r2_score(y_train[:2892] , pred)}')\n",
    "    print(f'Test RMSE: { np.sqrt(metrics.mean_squared_error(y_test, pred))}')\n",
    "    print(f'R Score Test: {r2_score(y_test , pred)}')"
   ]
  },
  {
   "cell_type": "code",
   "execution_count": null,
   "metadata": {},
   "outputs": [],
   "source": [
    "def _randonForest_train(X_train, X_test, y_train, y_test):\n",
    "    forest = RandomForestRegressor(n_estimators=100 , random_state=0 , n_jobs=1)\n",
    "    forest.fit(X_train , y_train)\n",
    "    pred = forest.predict(X_test)\n",
    "    print(f'Train RMSE: { np.sqrt(metrics.mean_squared_error(y_train[:2892], pred))}')\n",
    "    print(f'R Score Train: {r2_score(y_train[:2892] , pred)}')\n",
    "    print(f'Test RMSE: { np.sqrt(metrics.mean_squared_error(y_test, pred))}')\n",
    "    print(f'R Score Test: {r2_score(y_test , pred)}')"
   ]
  },
  {
   "cell_type": "code",
   "execution_count": null,
   "metadata": {
    "colab": {
     "base_uri": "https://localhost:8080/"
    },
    "id": "XieBii4Z316_",
    "outputId": "15d41cd8-cb28-4ba8-ce19-3a6f573d83ee"
   },
   "outputs": [],
   "source": [
    "%%time\n",
    "_randomForest_train(X_train_xg , X_test_xg , y_train , y_test )"
   ]
  },
  {
   "cell_type": "code",
   "execution_count": null,
   "metadata": {
    "colab": {
     "base_uri": "https://localhost:8080/"
    },
    "id": "2bXw_g_a317A",
    "outputId": "46c99b69-ffff-4b92-8041-83a723ea7a2c"
   },
   "outputs": [],
   "source": [
    "%%time\n",
    "_xgboost_train(X_train_xg , X_test_xg , y_train , y_test )"
   ]
  },
  {
   "cell_type": "markdown",
   "metadata": {
    "id": "qiHLhz4U317B"
   },
   "source": [
    "#### Recursive Feature Selection(RFE)"
   ]
  },
  {
   "cell_type": "code",
   "execution_count": null,
   "metadata": {
    "id": "oCoaOmoK317B"
   },
   "outputs": [],
   "source": [
    "from sklearn.feature_selection import RFE, RFECV"
   ]
  },
  {
   "cell_type": "code",
   "execution_count": null,
   "metadata": {
    "id": "hiSO2mOk317C"
   },
   "outputs": [],
   "source": [
    "r_selection = RFE(RandomForestRegressor(n_estimators=100 , random_state=0 , n_jobs=1),n_features_to_select=10)"
   ]
  },
  {
   "cell_type": "code",
   "execution_count": null,
   "metadata": {
    "colab": {
     "base_uri": "https://localhost:8080/"
    },
    "id": "8e3m2R4q317C",
    "outputId": "cc55dfa0-5dd3-413b-ad6e-a7787075df8d"
   },
   "outputs": [],
   "source": [
    "r_selection.fit(X_train , y_train)"
   ]
  },
  {
   "cell_type": "code",
   "execution_count": null,
   "metadata": {
    "colab": {
     "base_uri": "https://localhost:8080/"
    },
    "id": "OArERUEO317D",
    "outputId": "03a85473-83ec-4298-ea25-bf6f589e8ff8"
   },
   "outputs": [],
   "source": [
    "r_selection.get_support()"
   ]
  },
  {
   "cell_type": "code",
   "execution_count": null,
   "metadata": {
    "colab": {
     "base_uri": "https://localhost:8080/"
    },
    "id": "VjiuToC4317D",
    "outputId": "b9a34622-2c30-4a86-bb19-ae2b455897f5"
   },
   "outputs": [],
   "source": [
    "features1 = X_train.columns[(r_selection.get_support())]\n",
    "len(features)"
   ]
  },
  {
   "cell_type": "code",
   "execution_count": null,
   "metadata": {
    "colab": {
     "base_uri": "https://localhost:8080/"
    },
    "id": "ocZYnw5W317E",
    "outputId": "b6e395b7-5840-442b-9f96-126da02861fa"
   },
   "outputs": [],
   "source": [
    "features1"
   ]
  },
  {
   "cell_type": "code",
   "execution_count": null,
   "metadata": {
    "colab": {
     "base_uri": "https://localhost:8080/"
    },
    "id": "KpjAO5-8317E",
    "outputId": "84f9936e-8d5a-485e-9bf9-1e4ff401bd4b"
   },
   "outputs": [],
   "source": [
    "r_selection.estimator_.feature_importances_"
   ]
  },
  {
   "cell_type": "code",
   "execution_count": null,
   "metadata": {
    "id": "d8OLzqNn317F"
   },
   "outputs": [],
   "source": [
    "X_train_r = r_selection.transform(X_train)\n",
    "X_test_r = r_selection.transform(X_test)"
   ]
  },
  {
   "cell_type": "code",
   "execution_count": null,
   "metadata": {
    "colab": {
     "base_uri": "https://localhost:8080/"
    },
    "id": "i0_QBqAV317G",
    "outputId": "3ba6ccc2-52be-4fd0-e35a-323ef9176fcd"
   },
   "outputs": [],
   "source": [
    "%%time\n",
    "_randomForest_train(X_train_r , X_test_r , y_train , y_test )"
   ]
  },
  {
   "cell_type": "code",
   "execution_count": null,
   "metadata": {
    "colab": {
     "base_uri": "https://localhost:8080/"
    },
    "id": "0MHN-j_R317G",
    "outputId": "67dabd46-2e64-4d38-f738-2d10e0ede09a"
   },
   "outputs": [],
   "source": [
    "%%time\n",
    "# All features\n",
    "_randomForest_train(X_train , X_test , y_train , y_test )"
   ]
  },
  {
   "cell_type": "markdown",
   "metadata": {
    "id": "T9sybIvj317H"
   },
   "source": [
    "### Feature Selection: GradientBoostRegressor"
   ]
  },
  {
   "cell_type": "code",
   "execution_count": null,
   "metadata": {
    "id": "OXCOsLzP317H"
   },
   "outputs": [],
   "source": [
    "from sklearn.ensemble import GradientBoostingRegressor"
   ]
  },
  {
   "cell_type": "code",
   "execution_count": null,
   "metadata": {
    "colab": {
     "base_uri": "https://localhost:8080/"
    },
    "id": "1Xc-rukF317I",
    "outputId": "3b9df80f-0cde-4be4-a310-cb94eb3d7ead"
   },
   "outputs": [],
   "source": [
    "xgrad = RFE(xgb.XGBRegressor(objective ='reg:squarederror', n_estimators = 100, random_state=0 , n_jobs=1),n_features_to_select=10)\n",
    "xgrad.fit(X_train , y_train)"
   ]
  },
  {
   "cell_type": "code",
   "execution_count": null,
   "metadata": {
    "colab": {
     "base_uri": "https://localhost:8080/"
    },
    "id": "LsvC83Yc317I",
    "outputId": "6d4ace37-d915-4520-a48e-ec557ccd4e66"
   },
   "outputs": [],
   "source": [
    "xgrad.get_support()"
   ]
  },
  {
   "cell_type": "code",
   "execution_count": null,
   "metadata": {
    "colab": {
     "base_uri": "https://localhost:8080/"
    },
    "id": "gnjjrBeX317I",
    "outputId": "a40e4283-19d1-4a41-f8d4-bc6ffb43ae04"
   },
   "outputs": [],
   "source": [
    "features2 = X_train.columns[(xgrad.get_support())]\n",
    "len(features)"
   ]
  },
  {
   "cell_type": "code",
   "execution_count": null,
   "metadata": {
    "colab": {
     "base_uri": "https://localhost:8080/"
    },
    "id": "3E7k0apG317J",
    "outputId": "ce0ffc47-466f-4525-96fb-8a7039421e3d"
   },
   "outputs": [],
   "source": [
    "features2"
   ]
  },
  {
   "cell_type": "code",
   "execution_count": null,
   "metadata": {
    "colab": {
     "base_uri": "https://localhost:8080/"
    },
    "id": "sIh-fLB8317J",
    "outputId": "00d0cca4-67aa-4956-8ea8-8b43307774eb"
   },
   "outputs": [],
   "source": [
    "xgrad.estimator_.feature_importances_"
   ]
  },
  {
   "cell_type": "code",
   "execution_count": null,
   "metadata": {
    "id": "RCZNgWtd317K"
   },
   "outputs": [],
   "source": [
    "X_train_g = xgrad.transform(X_train)\n",
    "X_test_g = xgrad.transform(X_test)"
   ]
  },
  {
   "cell_type": "code",
   "execution_count": null,
   "metadata": {
    "colab": {
     "base_uri": "https://localhost:8080/"
    },
    "id": "aylgrfiI317K",
    "outputId": "e4a72eb8-8500-4a39-b777-f6ec3872d9c6"
   },
   "outputs": [],
   "source": [
    "%%time\n",
    "_randomForest_train(X_train_g , X_test_g , y_train , y_test )"
   ]
  },
  {
   "cell_type": "code",
   "execution_count": null,
   "metadata": {
    "colab": {
     "base_uri": "https://localhost:8080/"
    },
    "id": "Mqp3frbN317L",
    "outputId": "05ba89db-ba44-4610-d6ee-b79a2b0cd6b0"
   },
   "outputs": [],
   "source": [
    "%%time\n",
    "#All features\n",
    "_randomForest_train(X_train , X_test , y_train , y_test )"
   ]
  },
  {
   "cell_type": "markdown",
   "metadata": {
    "id": "sF_i7GAW317M"
   },
   "source": [
    "### Feature Selection: Random Forest Tree & Gardient Boost - 50 Iterations"
   ]
  },
  {
   "cell_type": "code",
   "execution_count": null,
   "metadata": {
    "colab": {
     "base_uri": "https://localhost:8080/"
    },
    "id": "LGwFyW81317M",
    "outputId": "1e752b3b-2af5-4b67-cc4e-6f67322508ff"
   },
   "outputs": [],
   "source": [
    "print('>'*40 + 'GradientBoostRegressor'+ '<'*40)\n",
    "for index in range(1 , 51):\n",
    "    grad_selection = RFE(GradientBoostingRegressor(n_estimators=100 , random_state=0), n_features_to_select=index)\n",
    "    grad_selection.fit(X_train , y_train)\n",
    "    X_train_g = grad_selection.transform(X_train)\n",
    "    X_test_g = grad_selection.transform(X_test)\n",
    "    print(f'Selected Features: {index}')\n",
    "    _randomForest_train(X_train_g , X_test_g , y_train , y_test )\n",
    "    print()"
   ]
  },
  {
   "cell_type": "code",
   "execution_count": null,
   "metadata": {
    "colab": {
     "base_uri": "https://localhost:8080/"
    },
    "id": "pS8Lo8Zz317N",
    "outputId": "b3a9140e-98eb-46c4-f784-87d6d2374f66"
   },
   "outputs": [],
   "source": [
    "print('>'*40 + 'RandomForestRegressor'+ '<'*40)\n",
    "for index in range(1 , 51):\n",
    "    grad_selection = RFE(RandomForestRegressor(n_estimators=100 , random_state=0), n_features_to_select=index)\n",
    "    grad_selection.fit(X_train , y_train)\n",
    "    X_train_r = grad_selection.transform(X_train)\n",
    "    X_test_r = grad_selection.transform(X_test)\n",
    "    print(f'Selected Features: {index}')\n",
    "    _randomForest_train(X_train_r , X_test_r , y_train , y_test )\n",
    "    print()"
   ]
  },
  {
   "cell_type": "code",
   "execution_count": null,
   "metadata": {
    "id": "Cj86DTPz317N"
   },
   "outputs": [],
   "source": []
  },
  {
   "cell_type": "code",
   "execution_count": null,
   "metadata": {
    "colab": {
     "base_uri": "https://localhost:8080/"
    },
    "id": "Fdq2_zDtWPmX",
    "outputId": "096c92bf-fae8-4e0f-f5be-ffb841257fd1"
   },
   "outputs": [],
   "source": [
    "grad_sel = RFECV(GradientBoostingRegressor(n_estimators=100 , random_state=0), cv=5)\n",
    "grad_sel.fit(X_train , y_train)\n",
    "X_train_g = grad_sel.transform(X_train)\n",
    "X_test_g = grad_sel.transform(X_test)\n",
    "print(f'Selected Features: {4}')\n",
    "_randomForest_train(X_train_g , X_test_g , y_train , y_test )"
   ]
  },
  {
   "cell_type": "code",
   "execution_count": null,
   "metadata": {
    "colab": {
     "base_uri": "https://localhost:8080/"
    },
    "id": "gRXJJGTvW2eU",
    "outputId": "07ebf1f5-f650-4baa-dd92-435ecc2d23ca"
   },
   "outputs": [],
   "source": [
    "best_feat1 = X_train.columns[(grad_sel.get_support())]\n",
    "len(best_feat1)"
   ]
  },
  {
   "cell_type": "code",
   "execution_count": null,
   "metadata": {
    "colab": {
     "base_uri": "https://localhost:8080/"
    },
    "id": "SgNLmyyWXILi",
    "outputId": "2f84d148-9c63-4a1a-9207-571e38ac6c64"
   },
   "outputs": [],
   "source": [
    "best_feat1"
   ]
  },
  {
   "cell_type": "code",
   "execution_count": null,
   "metadata": {
    "id": "woBUdFyJW49J"
   },
   "outputs": [],
   "source": [
    "forest_selection = RFECV(RandomForestRegressor(n_estimators=100 , random_state=0, n_jobs=1), cv=5)\n",
    "forest_selection.fit(X_train , y_train)\n",
    "X_train_g = forest_selection.transform(X_train)\n",
    "X_test_g = forest_selection.transform(X_test)\n",
    "print(f'Selected Features: {10}')\n",
    "_randomForest_train(X_train_g , X_test_g , y_train , y_test )"
   ]
  },
  {
   "cell_type": "code",
   "execution_count": null,
   "metadata": {
    "colab": {
     "base_uri": "https://localhost:8080/"
    },
    "id": "iunN0Jd0YGg0",
    "outputId": "ff4c9bd8-0cd4-498c-f63d-e45ad249447c"
   },
   "outputs": [],
   "source": [
    "best_feat2 = X_train.columns[(forest_selection.get_support())]\n",
    "len(best_feat2)"
   ]
  },
  {
   "cell_type": "code",
   "execution_count": null,
   "metadata": {
    "colab": {
     "base_uri": "https://localhost:8080/"
    },
    "id": "PkpJfKXjbfCK",
    "outputId": "e3664f73-e7ef-42b8-f471-5305cd4d3bfd"
   },
   "outputs": [],
   "source": [
    "best_feat2"
   ]
  },
  {
   "cell_type": "code",
   "execution_count": null,
   "metadata": {
    "id": "xuLJbGqsotH1"
   },
   "outputs": [],
   "source": []
  },
  {
   "cell_type": "code",
   "execution_count": 122,
   "metadata": {
    "id": "yJ5OPeQfbg8R"
   },
   "outputs": [],
   "source": [
    "best_features =  [ 'Madrid_wind_speed','Bilbao_rain_1h',\n",
    "                                        'Bilbao_pressure',  'Year', 'Day',\n",
    "                                        'Month', 'Start_hour']"
   ]
  },
  {
   "cell_type": "code",
   "execution_count": 123,
   "metadata": {
    "colab": {
     "base_uri": "https://localhost:8080/"
    },
    "id": "YJsHHGzudCBV",
    "outputId": "7c936235-746f-4cde-edd5-ad6560c4c3d5"
   },
   "outputs": [
    {
     "data": {
      "text/plain": [
       "Index(['Madrid_wind_speed', 'Bilbao_rain_1h', 'Bilbao_pressure', 'Year', 'Day',\n",
       "       'Month', 'Start_hour'],\n",
       "      dtype='object')"
      ]
     },
     "execution_count": 123,
     "metadata": {},
     "output_type": "execute_result"
    }
   ],
   "source": [
    "X = df_test[best_features]\n",
    "X.columns"
   ]
  },
  {
   "cell_type": "code",
   "execution_count": null,
   "metadata": {
    "id": "Nw2yZwRSdNpU"
   },
   "outputs": [],
   "source": []
  },
  {
   "cell_type": "code",
   "execution_count": 126,
   "metadata": {
    "id": "JkHN0GngfqcI"
   },
   "outputs": [],
   "source": [
    "#Train a model\n",
    "regression = [\n",
    "    xgb.XGBRegressor(objective ='reg:squarederror', n_estimators = 100, random_state=0 ),\n",
    "    # LinearRegression(),\n",
    "    RandomForestRegressor(max_depth=100)\n",
    "    ]"
   ]
  },
  {
   "cell_type": "code",
   "execution_count": 127,
   "metadata": {
    "colab": {
     "base_uri": "https://localhost:8080/"
    },
    "id": "-uKbcb1Afsho",
    "outputId": "4c0d8082-31be-40ce-feea-9faff64e364f"
   },
   "outputs": [
    {
     "name": "stdout",
     "output_type": "stream",
     "text": [
      "----------------------------------------Trained Succesfully----------------------------------------\n",
      "\n",
      "             Training         Test\n",
      "RMSE      1540.986567  2800.560417\n",
      "R2 Score     0.911675     0.718981\n",
      "--------------------------------------------------End--------------------------------------------------\n",
      "\n",
      "                    time  load_shortfall_3h\n",
      "0    2018-01-01 00:00:00       11364.571289\n",
      "1    2018-01-01 03:00:00        4487.770508\n",
      "2    2018-01-01 06:00:00        5171.218262\n",
      "3    2018-01-01 09:00:00        6418.197266\n",
      "4    2018-01-01 12:00:00       11542.001953\n",
      "...                  ...                ...\n",
      "2915 2018-12-31 09:00:00        6120.961426\n",
      "2916 2018-12-31 12:00:00        9883.640625\n",
      "2917 2018-12-31 15:00:00        8572.275391\n",
      "2918 2018-12-31 18:00:00        7231.488770\n",
      "2919 2018-12-31 21:00:00        9858.897461\n",
      "\n",
      "[2920 rows x 2 columns]\n",
      "             Training         Test\n",
      "RMSE      1079.892780  2947.639697\n",
      "R2 Score     0.956624     0.688689\n",
      "--------------------------------------------------End--------------------------------------------------\n",
      "\n",
      "                    time  load_shortfall_3h\n",
      "0    2018-01-01 00:00:00       11705.850000\n",
      "1    2018-01-01 03:00:00        8080.880000\n",
      "2    2018-01-01 06:00:00        4984.280000\n",
      "3    2018-01-01 09:00:00        7691.740000\n",
      "4    2018-01-01 12:00:00       11283.650000\n",
      "...                  ...                ...\n",
      "2915 2018-12-31 09:00:00        8208.993333\n",
      "2916 2018-12-31 12:00:00        7587.580000\n",
      "2917 2018-12-31 15:00:00        7276.913333\n",
      "2918 2018-12-31 18:00:00        6656.803333\n",
      "2919 2018-12-31 21:00:00        7462.846667\n",
      "\n",
      "[2920 rows x 2 columns]\n"
     ]
    }
   ],
   "source": [
    "from sklearn import metrics\n",
    "print('-'*40 + 'Trained Succesfully' + '-'*40 + '\\n')\n",
    "for items in regression:\n",
    "    model = items\n",
    "    model.fit(X_train[best_features],y_train)\n",
    "    train_model = model.predict(X_train[best_features])\n",
    "    test_model = model.predict(X_test[best_features])\n",
    "    \n",
    "  \n",
    "    #Dictionary of results\n",
    "    results_dict = {'Training':\n",
    "                        {\n",
    "                            \"RMSE\": np.sqrt(metrics.mean_squared_error(y_train, train_model)),\n",
    "                            'R2 Score': r2_score(y_train ,train_model)\n",
    "                            \n",
    "                        },\n",
    "                    'Test':\n",
    "                        {\n",
    "                            \"RMSE\": np.sqrt(metrics.mean_squared_error(y_test, test_model)),\n",
    "                            'R2 Score': r2_score(y_test ,test_model)\n",
    "\n",
    "                        }\n",
    "                    \n",
    "                   }\n",
    "    scores = pd.DataFrame(data=results_dict)\n",
    "    print(scores)\n",
    "    print('-'*50+'End'+'-'*50)\n",
    "    print()\n",
    "    y_pred =  model.predict(X)\n",
    "    daf = pd.DataFrame(y_pred, columns=['load_shortfall_3h'])\n",
    "    output = pd.DataFrame({\"time\": df_test_copy['time'].reset_index(drop=True)})\n",
    "    submissionF = output.join(daf)\n",
    "    submissionF['load_shortfall_3h'] = daf.values\n",
    "    submissionF.to_csv(\"submissionF.csv\", index=False)\n",
    "    print(submissionF)\n",
    "\n"
   ]
  },
  {
   "cell_type": "code",
   "execution_count": null,
   "metadata": {},
   "outputs": [],
   "source": []
  },
  {
   "cell_type": "code",
   "execution_count": null,
   "metadata": {},
   "outputs": [],
   "source": []
  }
 ],
 "metadata": {
  "accelerator": "GPU",
  "colab": {
   "collapsed_sections": [],
   "name": "feature_selection",
   "provenance": []
  },
  "kernelspec": {
   "display_name": "Python 3",
   "language": "python",
   "name": "python3"
  },
  "language_info": {
   "codemirror_mode": {
    "name": "ipython",
    "version": 3
   },
   "file_extension": ".py",
   "mimetype": "text/x-python",
   "name": "python",
   "nbconvert_exporter": "python",
   "pygments_lexer": "ipython3",
   "version": "3.8.3"
  }
 },
 "nbformat": 4,
 "nbformat_minor": 1
}
